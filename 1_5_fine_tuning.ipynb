{
  "nbformat": 4,
  "nbformat_minor": 0,
  "metadata": {
    "colab": {
      "name": "1-5_fine_tuning.ipynb",
      "provenance": [],
      "collapsed_sections": [],
      "authorship_tag": "ABX9TyO5YMcc/GtA7l36mGkeHFjE",
      "include_colab_link": true
    },
    "kernelspec": {
      "name": "python3",
      "display_name": "Python 3"
    },
    "accelerator": "GPU"
  },
  "cells": [
    {
      "cell_type": "markdown",
      "metadata": {
        "id": "view-in-github",
        "colab_type": "text"
      },
      "source": [
        "<a href=\"https://colab.research.google.com/github/AtaruOhto/learn_pytorch_advanced/blob/master/1_5_fine_tuning.ipynb\" target=\"_parent\"><img src=\"https://colab.research.google.com/assets/colab-badge.svg\" alt=\"Open In Colab\"/></a>"
      ]
    },
    {
      "cell_type": "code",
      "metadata": {
        "id": "31byjdvUkR00",
        "colab_type": "code",
        "colab": {}
      },
      "source": [
        "# 参照元: https://github.com/YutaroOgawa/pytorch_advanced/blob/master/1_image_classification/1-5_fine_tuning.ipynb\n",
        "import glob\n",
        "import os\n",
        "import random\n",
        "import urllib\n",
        "\n",
        "import numpy as np\n",
        "from PIL import Image\n",
        "from tqdm import tqdm\n",
        "\n",
        "import torch\n",
        "import torch.nn as nn\n",
        "import torch.optim as optim\n",
        "import torch.utils.data as data\n",
        "from torchvision import models, transforms\n",
        "\n"
      ],
      "execution_count": 54,
      "outputs": []
    },
    {
      "cell_type": "code",
      "metadata": {
        "id": "p0EjWuz29xtu",
        "colab_type": "code",
        "colab": {}
      },
      "source": [
        "torch.manual_seed(1234)\n",
        "np.random.seed(1234)\n",
        "random.seed(1234)\n",
        "\n",
        "size = 224\n",
        "mean = (0.485, 0.456, 0.406)\n",
        "std = (0.229, 0.224, 0.225)"
      ],
      "execution_count": 3,
      "outputs": []
    },
    {
      "cell_type": "code",
      "metadata": {
        "id": "CnW7WAXD-Ley",
        "colab_type": "code",
        "colab": {
          "base_uri": "https://localhost:8080/",
          "height": 34
        },
        "outputId": "417e9ed3-4f63-466a-ea5f-74ba2e541854"
      },
      "source": [
        "import zipfile\n",
        "\n",
        "hymenoptera_url = \"https://download.pytorch.org/tutorial/hymenoptera_data.zip\"\n",
        "hymenoptera_zip = os.path.join(\"hymenoptera_data.zip\")\n",
        "\n",
        "if not os.path.exists(hymenoptera_zip):\n",
        "    print(\"アリとハチの画像群をダウンロード\")\n",
        "    urllib.request.urlretrieve(hymenoptera_url, hymenoptera_zip)\n",
        "\n",
        "    # ZIPファイルを読み込み\n",
        "    zip = zipfile.ZipFile(hymenoptera_zip)\n",
        "    zip.extractall(\"./\")  # ZIPを解凍\n",
        "    zip.close()  # ZIPファイルをクローズ\n",
        "\n",
        "    # ZIPファイルを消去\n",
        "    os.remove(hymenoptera_zip)"
      ],
      "execution_count": 4,
      "outputs": [
        {
          "output_type": "stream",
          "text": [
            "アリとハチの画像群をダウンロード\n"
          ],
          "name": "stdout"
        }
      ]
    },
    {
      "cell_type": "code",
      "metadata": {
        "id": "6z_aDMXK93Tl",
        "colab_type": "code",
        "colab": {}
      },
      "source": [
        "class ImageTransform():\n",
        "\n",
        "  def __init__(self, resize, mean, std):\n",
        "    self.data_transform = {\n",
        "        \"train\": transforms.Compose([\n",
        "          transforms.RandomResizedCrop(resize, scale=(0.5, 1.0)),\n",
        "          transforms.RandomHorizontalFlip(),\n",
        "          transforms.ToTensor(),\n",
        "          transforms.Normalize(mean, std)\n",
        "        ]),\n",
        "        \"val\": transforms.Compose([\n",
        "          transforms.Resize(resize),\n",
        "          transforms.CenterCrop(resize),\n",
        "          transforms.ToTensor(),\n",
        "          transforms.Normalize(mean, std)\n",
        "        ])\n",
        "    }\n",
        "  \n",
        "  def __call__(self, img, phase=\"train\"):\n",
        "    return self.data_transform[phase](img)"
      ],
      "execution_count": 42,
      "outputs": []
    },
    {
      "cell_type": "code",
      "metadata": {
        "id": "tfrGTRDTIZ2o",
        "colab_type": "code",
        "colab": {
          "base_uri": "https://localhost:8080/",
          "height": 391
        },
        "outputId": "348864b4-fa85-4f8d-fe38-34dd0f11c876"
      },
      "source": [
        "def make_datapath_list(phase=\"train\"):\n",
        "  rootpath = \"./hymenoptera_data/\"\n",
        "  target_path = os.path.join(rootpath + phase + \"/**/*.jpg\")\n",
        "  print(target_path)\n",
        "\n",
        "  path_list = []\n",
        "\n",
        "  # globを利用してサブディレクトリまでファイルパスを取得する\n",
        "  for path in glob.glob(target_path):\n",
        "    path_list.append(path)\n",
        "  return path_list\n",
        "\n",
        "train_list = make_datapath_list(phase=\"train\")\n",
        "val_list = make_datapath_list(phase=\"val\")\n",
        "\n",
        "train_list[:20]"
      ],
      "execution_count": 43,
      "outputs": [
        {
          "output_type": "stream",
          "text": [
            "./hymenoptera_data/train/**/*.jpg\n",
            "./hymenoptera_data/val/**/*.jpg\n"
          ],
          "name": "stdout"
        },
        {
          "output_type": "execute_result",
          "data": {
            "text/plain": [
              "['./hymenoptera_data/train/ants/196757565_326437f5fe.jpg',\n",
              " './hymenoptera_data/train/ants/1368913450_e146e2fb6d.jpg',\n",
              " './hymenoptera_data/train/ants/24335309_c5ea483bb8.jpg',\n",
              " './hymenoptera_data/train/ants/474806473_ca6caab245.jpg',\n",
              " './hymenoptera_data/train/ants/150801171_cd86f17ed8.jpg',\n",
              " './hymenoptera_data/train/ants/VietnameseAntMimicSpider.jpg',\n",
              " './hymenoptera_data/train/ants/2019439677_2db655d361.jpg',\n",
              " './hymenoptera_data/train/ants/522163566_fec115ca66.jpg',\n",
              " './hymenoptera_data/train/ants/245647475_9523dfd13e.jpg',\n",
              " './hymenoptera_data/train/ants/384191229_5779cf591b.jpg',\n",
              " './hymenoptera_data/train/ants/450057712_771b3bfc91.jpg',\n",
              " './hymenoptera_data/train/ants/662541407_ff8db781e7.jpg',\n",
              " './hymenoptera_data/train/ants/535522953_308353a07c.jpg',\n",
              " './hymenoptera_data/train/ants/403746349_71384f5b58.jpg',\n",
              " './hymenoptera_data/train/ants/army-ants-red-picture.jpg',\n",
              " './hymenoptera_data/train/ants/386190770_672743c9a7.jpg',\n",
              " './hymenoptera_data/train/ants/822537660_caf4ba5514.jpg',\n",
              " './hymenoptera_data/train/ants/154124431_65460430f2.jpg',\n",
              " './hymenoptera_data/train/ants/684133190_35b62c0c1d.jpg',\n",
              " './hymenoptera_data/train/ants/460372577_f2f6a8c9fc.jpg']"
            ]
          },
          "metadata": {
            "tags": []
          },
          "execution_count": 43
        }
      ]
    },
    {
      "cell_type": "code",
      "metadata": {
        "id": "9Tq3m2GLJlyS",
        "colab_type": "code",
        "colab": {
          "base_uri": "https://localhost:8080/",
          "height": 51
        },
        "outputId": "d7c907a5-2a22-45d4-c7ad-9c9287b26a7f"
      },
      "source": [
        "class HymenopteraDataset(data.Dataset):\n",
        "\n",
        "  def __init__(self, file_list, transform=None, phase=\"train\"):\n",
        "    self.file_list = file_list\n",
        "    self.transform = transform\n",
        "    self.phase = phase\n",
        "  \n",
        "  def __len__(self):\n",
        "    return len(self.file_list)\n",
        "\n",
        "  def __getitem__(self, index):\n",
        "    img_path = self.file_list[index]\n",
        "    img = Image.open(img_path)\n",
        "\n",
        "    img_transformed = self.transform(img, self.phase)\n",
        "\n",
        "    if \"/ants/\" in img_path:\n",
        "      label = 0\n",
        "    elif \"/bees/\" in img_path:\n",
        "      label = 1\n",
        "    \n",
        "    return img_transformed, label\n",
        "  \n",
        "train_dataset = HymenopteraDataset(file_list=train_list, transform=ImageTransform(size, mean, std), phase=\"train\")\n",
        "\n",
        "val_dataset = HymenopteraDataset(file_list=val_list, transform=ImageTransform(size, mean, std), phase=\"val\")\n",
        "\n",
        "index = 0\n",
        "print(train_dataset.__getitem__(index)[0].size())\n",
        "print(train_dataset.__getitem__(index)[1])"
      ],
      "execution_count": 60,
      "outputs": [
        {
          "output_type": "stream",
          "text": [
            "torch.Size([3, 224, 224])\n",
            "0\n"
          ],
          "name": "stdout"
        }
      ]
    },
    {
      "cell_type": "code",
      "metadata": {
        "id": "9L1Ph8MBMQmj",
        "colab_type": "code",
        "colab": {
          "base_uri": "https://localhost:8080/",
          "height": 85
        },
        "outputId": "2bd5e505-8c65-48b5-dfc3-a5e345d42ef7"
      },
      "source": [
        "train_list = make_datapath_list(phase=\"train\")\n",
        "val_list = make_datapath_list(phase=\"val\")\n",
        "\n",
        "batch_size = 32\n",
        "\n",
        "train_dataloader = torch.utils.data.DataLoader(train_dataset, batch_size=batch_size, shuffle=True)\n",
        "val_dataloader = torch.utils.data.DataLoader(val_dataset, batch_size=batch_size, shuffle=False)\n",
        "\n",
        "dataloaders_dict = {\"train\": train_dataloader, \"val\": val_dataloader}\n",
        "dataloaders_dict\n",
        "\n"
      ],
      "execution_count": 61,
      "outputs": [
        {
          "output_type": "stream",
          "text": [
            "./hymenoptera_data/train/**/*.jpg\n",
            "./hymenoptera_data/val/**/*.jpg\n"
          ],
          "name": "stdout"
        },
        {
          "output_type": "execute_result",
          "data": {
            "text/plain": [
              "{'train': <torch.utils.data.dataloader.DataLoader at 0x7fcae41c3860>,\n",
              " 'val': <torch.utils.data.dataloader.DataLoader at 0x7fcae41c31d0>}"
            ]
          },
          "metadata": {
            "tags": []
          },
          "execution_count": 61
        }
      ]
    },
    {
      "cell_type": "code",
      "metadata": {
        "id": "LOxRFFwwSHkg",
        "colab_type": "code",
        "colab": {
          "base_uri": "https://localhost:8080/",
          "height": 561
        },
        "outputId": "c105556e-294e-469c-dc99-8a0a1324fab9"
      },
      "source": [
        "use_pretrained = True\n",
        "net = models.vgg16(pretrained=use_pretrained)\n",
        "\n",
        "net.classifier[6] = nn.Linear(in_features=4096, out_features=2)\n",
        "\n",
        "net.train()\n",
        "# 損失関数を設定する\n",
        "criterion = nn.CrossEntropyLoss()\n",
        "\n",
        "params_to_update_1 = []\n",
        "params_to_update_2 = []\n",
        "params_to_update_3 = []\n",
        "\n",
        "update_param_names_1 = [\"features\"]\n",
        "update_param_names_2 = [\"classifier.0.weight\", \"classifier.0.bias\", \"classifier.3.weight\", \"classifier.3.bias\"]\n",
        "update_param_names_3 = [\"classifier.6.weight\", \"classifier.6.bias\"]\n",
        "\n",
        "for name, param in net.named_parameters():\n",
        "  if update_param_names_1[0] in name:\n",
        "    param.requires_grad = True\n",
        "    params_to_update_1.append(param)\n",
        "    print(\"params_to_update_1に格納:\", name)\n",
        "\n",
        "  elif name in update_param_names_2:\n",
        "    param.requires_grad = True\n",
        "    params_to_update_2.append(param)\n",
        "    print(\"params_to_update_2に格納:\", name)\n",
        "\n",
        "  elif name in update_param_names_3:\n",
        "    param.requires_grad = True\n",
        "    params_to_update_3.append(param)\n",
        "    print(\"params_to_update_3に格納\", name)\n",
        "\n",
        "  else:\n",
        "    param.requires_grad = False\n",
        "    print(\"勾配計算なし。学習せず\", name)\n",
        "\n",
        "optimizer = optim.SGD([\n",
        "  {\"params\": params_to_update_1, \"lr\": 1e-4},\n",
        "  {\"params\": params_to_update_2, \"lr\": 5e-4},\n",
        "  {\"params\": params_to_update_3, \"lr\": 1e-3}\n",
        "], momentum=0.9)"
      ],
      "execution_count": 120,
      "outputs": [
        {
          "output_type": "stream",
          "text": [
            "params_to_update_1に格納: features.0.weight\n",
            "params_to_update_1に格納: features.0.bias\n",
            "params_to_update_1に格納: features.2.weight\n",
            "params_to_update_1に格納: features.2.bias\n",
            "params_to_update_1に格納: features.5.weight\n",
            "params_to_update_1に格納: features.5.bias\n",
            "params_to_update_1に格納: features.7.weight\n",
            "params_to_update_1に格納: features.7.bias\n",
            "params_to_update_1に格納: features.10.weight\n",
            "params_to_update_1に格納: features.10.bias\n",
            "params_to_update_1に格納: features.12.weight\n",
            "params_to_update_1に格納: features.12.bias\n",
            "params_to_update_1に格納: features.14.weight\n",
            "params_to_update_1に格納: features.14.bias\n",
            "params_to_update_1に格納: features.17.weight\n",
            "params_to_update_1に格納: features.17.bias\n",
            "params_to_update_1に格納: features.19.weight\n",
            "params_to_update_1に格納: features.19.bias\n",
            "params_to_update_1に格納: features.21.weight\n",
            "params_to_update_1に格納: features.21.bias\n",
            "params_to_update_1に格納: features.24.weight\n",
            "params_to_update_1に格納: features.24.bias\n",
            "params_to_update_1に格納: features.26.weight\n",
            "params_to_update_1に格納: features.26.bias\n",
            "params_to_update_1に格納: features.28.weight\n",
            "params_to_update_1に格納: features.28.bias\n",
            "params_to_update_2に格納: classifier.0.weight\n",
            "params_to_update_2に格納: classifier.0.bias\n",
            "params_to_update_2に格納: classifier.3.weight\n",
            "params_to_update_2に格納: classifier.3.bias\n",
            "params_to_update_3に格納 classifier.6.weight\n",
            "params_to_update_3に格納 classifier.6.bias\n"
          ],
          "name": "stdout"
        }
      ]
    },
    {
      "cell_type": "code",
      "metadata": {
        "id": "_u6eo_dWVkAp",
        "colab_type": "code",
        "colab": {
          "base_uri": "https://localhost:8080/",
          "height": 663
        },
        "outputId": "d214ed7a-4173-4bdf-cf1f-2a0d04ff33d7"
      },
      "source": [
        "losses = {\n",
        "    \"train\": {},\n",
        "    \"val\": {}\n",
        "}\n",
        "\n",
        "def train_model(net, dataloaders_dict, criterion, optimizer, num_epochs):\n",
        "  device = torch.device(\"cuda:0\" if torch.cuda.is_available() else \"cpu\")\n",
        "  print(f\"{device}を使います。\")\n",
        "\n",
        "  # ネットワークをGPUに送信\n",
        "  net.to(device)\n",
        "\n",
        "  # ネットワークがある程度固定であれば、高速化させる\n",
        "  torch.backends.cudnn.benchmark = True\n",
        "\n",
        "  # epochのループ\n",
        "  for epoch in range(num_epochs):\n",
        "    print(f\"Epoch: {epoch} / {num_epochs}\")\n",
        "    print(\"========================================\")\n",
        "\n",
        "    # epochごとの訓練と検証のループ\n",
        "    for phase in [\"train\", \"val\"]:\n",
        "      if phase == \"train\":\n",
        "        net.train() # モデルを訓練モードに\n",
        "      else:\n",
        "        net.eval() # モデルを検証モードに\n",
        "      \n",
        "      epoch_loss = 0.0 # epochの損失和\n",
        "      epoch_corrects = 0 # epochの正解数\n",
        "\n",
        "      # 未学習時の検証性能を確かめるため、epoch=0の訓練は省略\n",
        "      if (epoch == 0) and (phase == \"train\"):\n",
        "        continue\n",
        "\n",
        "      # データローダーからミニバッチを取り出すループ\n",
        "      for inputs, labels in tqdm(dataloaders_dict[phase]):\n",
        "\n",
        "        # GPUが使えるならGPUにデータを送る\n",
        "        inputs = inputs.to(device)\n",
        "        labels = labels.to(device)\n",
        "\n",
        "        # optimizerを初期化\n",
        "        optimizer.zero_grad()\n",
        "\n",
        "        # 順伝播 (forward) 計算\n",
        "        with torch.set_grad_enabled(phase == \"train\"):\n",
        "          outputs = net(inputs)\n",
        "          loss = criterion(outputs, labels) # 損失計算\n",
        "          _, preds = torch.max(outputs, 1) # ラベルを予測\n",
        "\n",
        "          # 訓練時はバックプロパゲーション\n",
        "          if phase == \"train\":\n",
        "            loss.backward()\n",
        "            optimizer.step()\n",
        "\n",
        "          epoch_loss += loss.item() * inputs.size(0) # lossの合計を更新\n",
        "          # 正解数の合計を更新\n",
        "          epoch_corrects += torch.sum(preds == labels.data)\n",
        "      epoch_loss = epoch_loss / len(dataloaders_dict[phase].dataset)\n",
        "      epoch_acc = epoch_corrects.double() / len(dataloaders_dict[phase].dataset)\n",
        "      print(f\"モード: {phase}, 誤差: {epoch_loss:.4f}, 正解率: {epoch_acc:.4f}\")\n",
        "      losses[phase][epoch] = epoch_loss\n",
        "      \n",
        "# 学習・検証を実行する\n",
        "num_epochs=5\n",
        "train_model(net, dataloaders_dict, criterion, optimizer, num_epochs=num_epochs)\n",
        "losses\n"
      ],
      "execution_count": 121,
      "outputs": [
        {
          "output_type": "stream",
          "text": [
            "\r  0%|          | 0/5 [00:00<?, ?it/s]"
          ],
          "name": "stderr"
        },
        {
          "output_type": "stream",
          "text": [
            "cuda:0を使います。\n",
            "Epoch: 0 / 5\n",
            "========================================\n"
          ],
          "name": "stdout"
        },
        {
          "output_type": "stream",
          "text": [
            "100%|██████████| 5/5 [00:01<00:00,  2.52it/s]\n",
            "  0%|          | 0/8 [00:00<?, ?it/s]"
          ],
          "name": "stderr"
        },
        {
          "output_type": "stream",
          "text": [
            "モード: val, 誤差: 0.6646, 正解率: 0.5817\n",
            "Epoch: 1 / 5\n",
            "========================================\n"
          ],
          "name": "stdout"
        },
        {
          "output_type": "stream",
          "text": [
            "100%|██████████| 8/8 [00:05<00:00,  1.60it/s]\n",
            "  0%|          | 0/5 [00:00<?, ?it/s]"
          ],
          "name": "stderr"
        },
        {
          "output_type": "stream",
          "text": [
            "モード: train, 誤差: 0.4356, 正解率: 0.7984\n"
          ],
          "name": "stdout"
        },
        {
          "output_type": "stream",
          "text": [
            "100%|██████████| 5/5 [00:01<00:00,  2.65it/s]\n",
            "  0%|          | 0/8 [00:00<?, ?it/s]"
          ],
          "name": "stderr"
        },
        {
          "output_type": "stream",
          "text": [
            "モード: val, 誤差: 0.1682, 正解率: 0.9477\n",
            "Epoch: 2 / 5\n",
            "========================================\n"
          ],
          "name": "stdout"
        },
        {
          "output_type": "stream",
          "text": [
            "100%|██████████| 8/8 [00:04<00:00,  1.61it/s]\n",
            "  0%|          | 0/5 [00:00<?, ?it/s]"
          ],
          "name": "stderr"
        },
        {
          "output_type": "stream",
          "text": [
            "モード: train, 誤差: 0.1474, 正解率: 0.9424\n"
          ],
          "name": "stdout"
        },
        {
          "output_type": "stream",
          "text": [
            "100%|██████████| 5/5 [00:01<00:00,  2.66it/s]\n",
            "  0%|          | 0/8 [00:00<?, ?it/s]"
          ],
          "name": "stderr"
        },
        {
          "output_type": "stream",
          "text": [
            "モード: val, 誤差: 0.1203, 正解率: 0.9542\n",
            "Epoch: 3 / 5\n",
            "========================================\n"
          ],
          "name": "stdout"
        },
        {
          "output_type": "stream",
          "text": [
            "100%|██████████| 8/8 [00:04<00:00,  1.61it/s]\n",
            "  0%|          | 0/5 [00:00<?, ?it/s]"
          ],
          "name": "stderr"
        },
        {
          "output_type": "stream",
          "text": [
            "モード: train, 誤差: 0.0795, 正解率: 0.9794\n"
          ],
          "name": "stdout"
        },
        {
          "output_type": "stream",
          "text": [
            "100%|██████████| 5/5 [00:01<00:00,  2.66it/s]\n",
            "  0%|          | 0/8 [00:00<?, ?it/s]"
          ],
          "name": "stderr"
        },
        {
          "output_type": "stream",
          "text": [
            "モード: val, 誤差: 0.1150, 正解率: 0.9542\n",
            "Epoch: 4 / 5\n",
            "========================================\n"
          ],
          "name": "stdout"
        },
        {
          "output_type": "stream",
          "text": [
            "100%|██████████| 8/8 [00:05<00:00,  1.59it/s]\n",
            "  0%|          | 0/5 [00:00<?, ?it/s]"
          ],
          "name": "stderr"
        },
        {
          "output_type": "stream",
          "text": [
            "モード: train, 誤差: 0.1010, 正解率: 0.9671\n"
          ],
          "name": "stdout"
        },
        {
          "output_type": "stream",
          "text": [
            "100%|██████████| 5/5 [00:01<00:00,  2.64it/s]"
          ],
          "name": "stderr"
        },
        {
          "output_type": "stream",
          "text": [
            "モード: val, 誤差: 0.1128, 正解率: 0.9477\n"
          ],
          "name": "stdout"
        },
        {
          "output_type": "stream",
          "text": [
            "\n"
          ],
          "name": "stderr"
        },
        {
          "output_type": "execute_result",
          "data": {
            "text/plain": [
              "{'train': {1: 0.4355782743221448,\n",
              "  2: 0.14742994814375301,\n",
              "  3: 0.07947315401378482,\n",
              "  4: 0.10099742583041328},\n",
              " 'val': {0: 0.664601054066926,\n",
              "  1: 0.1682475321238337,\n",
              "  2: 0.12032910877096108,\n",
              "  3: 0.11495450663751637,\n",
              "  4: 0.112845118431484}}"
            ]
          },
          "metadata": {
            "tags": []
          },
          "execution_count": 121
        }
      ]
    },
    {
      "cell_type": "code",
      "metadata": {
        "id": "eTJts66-zs1V",
        "colab_type": "code",
        "colab": {
          "base_uri": "https://localhost:8080/",
          "height": 282
        },
        "outputId": "de910bf8-d3fd-4556-d7fe-7f12ce13eb30"
      },
      "source": [
        "import matplotlib.pyplot as plt\n",
        "%matplotlib inline \n",
        "\n",
        "x = np.arange(num_epochs)\n",
        "train_losses  = np.insert(np.array(list(losses[\"train\"].values())), 0, 1)\n",
        "val_losses = np.array(list(losses[\"val\"].values()))\n",
        "\n",
        "plt.plot(x, train_losses, label=\"train\")\n",
        "plt.plot(x, val_losses, label=\"val\")\n"
      ],
      "execution_count": 122,
      "outputs": [
        {
          "output_type": "execute_result",
          "data": {
            "text/plain": [
              "[<matplotlib.lines.Line2D at 0x7fcae1337c18>]"
            ]
          },
          "metadata": {
            "tags": []
          },
          "execution_count": 122
        },
        {
          "output_type": "display_data",
          "data": {
            "image/png": "[encoded data removed]",
            "text/plain": [
              "<Figure size 432x288 with 1 Axes>"
            ]
          },
          "metadata": {
            "tags": [],
            "needs_background": "light"
          }
        }
      ]
    },
    {
      "cell_type": "code",
      "metadata": {
        "id": "JIvvr21PZbzr",
        "colab_type": "code",
        "colab": {}
      },
      "source": [
        "model_path = \"./weights_file_tuning.pth\"\n",
        "torch.save(net.state_dict(), model_path)"
      ],
      "execution_count": 123,
      "outputs": []
    },
    {
      "cell_type": "code",
      "metadata": {
        "id": "rZjXf9AfaNed",
        "colab_type": "code",
        "colab": {
          "base_uri": "https://localhost:8080/",
          "height": 34
        },
        "outputId": "117f19d3-8dd9-4dc5-bc66-80ca33600bd3"
      },
      "source": [
        "weights = None\n",
        "\n",
        "if torch.cuda.is_available():\n",
        "  # ケース1: GPU上で保存された重みをGPU上でロードする場合\n",
        "  load_weights = torch.load(model_path)\n",
        "  weights = net.load_state_dict(load_weights)\n",
        "else:\n",
        "  # ケース2: GPU上で保存された重みをCPU上でロードする場合\n",
        "  load_weights = torch.load(model_path, map_location={\"cuda:0\": \"cpu\"})\n",
        "  weights = net.load_state_dict(load_weights)\n",
        "  \n",
        "weights"
      ],
      "execution_count": 124,
      "outputs": [
        {
          "output_type": "execute_result",
          "data": {
            "text/plain": [
              "<All keys matched successfully>"
            ]
          },
          "metadata": {
            "tags": []
          },
          "execution_count": 124
        }
      ]
    }
  ]
}